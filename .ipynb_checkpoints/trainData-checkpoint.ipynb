{
 "cells": [
  {
   "cell_type": "code",
   "execution_count": 1,
   "metadata": {},
   "outputs": [
    {
     "name": "stderr",
     "output_type": "stream",
     "text": [
      "Using TensorFlow backend.\n",
      "/Library/Frameworks/Python.framework/Versions/3.6/lib/python3.6/importlib/_bootstrap.py:219: RuntimeWarning: numpy.dtype size changed, may indicate binary incompatibility. Expected 96, got 88\n",
      "  return f(*args, **kwds)\n"
     ]
    }
   ],
   "source": [
    "from keras.applications.mobilenet import MobileNet\n",
    "from keras.layers import GlobalAveragePooling2D, Dense, Dropout\n",
    "from keras.models import Sequential\n",
    "import numpy as np\n",
    "import os\n",
    "import cv2\n",
    "import pandas as pd\n",
    "import cv2\n",
    "#multi_disease_model.load_weights('xray_class_weights_raven.hdf5')\n",
    "#multi_disease_model.summary()"
   ]
  },
  {
   "cell_type": "code",
   "execution_count": 2,
   "metadata": {},
   "outputs": [],
   "source": [
    "test_dir=\"test_images\"\n",
    "train_data_dir=\"images\""
   ]
  },
  {
   "cell_type": "code",
   "execution_count": 66,
   "metadata": {},
   "outputs": [],
   "source": [
    "def create_model():\n",
    "    base_mobilenet_model = MobileNet(input_shape =  [256, 256, 14],\n",
    "                                     include_top = False, weights = None)\n",
    "    multi_disease_model = Sequential()\n",
    "    multi_disease_model.add(base_mobilenet_model)\n",
    "    multi_disease_model.add(GlobalAveragePooling2D())\n",
    "    multi_disease_model.add(Dropout(0.5))\n",
    "    multi_disease_model.add(Dense(512))\n",
    "    multi_disease_model.add(Dropout(0.5))\n",
    "    multi_disease_model.add(Dense(14, activation = 'sigmoid'))\n",
    "    multi_disease_model.compile(optimizer = 'adam', loss = 'binary_crossentropy',\n",
    "                                metrics = ['binary_accuracy', 'mae'])\n",
    "    return multi_disease_model\n"
   ]
  },
  {
   "cell_type": "code",
   "execution_count": 59,
   "metadata": {},
   "outputs": [],
   "source": [
    "def image_reshape_train(img):\n",
    "    IMG_SIZE = (256, 256)\n",
    "    x=[]\n",
    "    for i in img:\n",
    "        im_gray = cv2.imread(train_data_dir+\"/\"+i, cv2.IMREAD_GRAYSCALE)\n",
    "        (thresh, im_bw) = cv2.threshold(im_gray, 128, 255, cv2.THRESH_BINARY | cv2.THRESH_OTSU)\n",
    "        image=cv2.resize(im_bw, IMG_SIZE, interpolation=cv2.INTER_CUBIC)\n",
    "        x.append(image)\n",
    "    x=np.asarray(x)\n",
    "    x=np.reshape(x,(len(img),256,256,1))\n",
    "    return x"
   ]
  },
  {
   "cell_type": "code",
   "execution_count": 46,
   "metadata": {},
   "outputs": [],
   "source": [
    "def image_reshape_test(test_dir):\n",
    "    IMG_SIZE = (512, 512)\n",
    "    x=[]\n",
    "    files=os.listdir(test_dir)\n",
    "    for file in files:\n",
    "        print(\"image Detected : \",file)\n",
    "        im_gray = cv2.imread(test_dir+\"/\"+file, cv2.IMREAD_GRAYSCALE)\n",
    "        (thresh, im_bw) = cv2.threshold(im_gray, 128, 255, cv2.THRESH_BINARY | cv2.THRESH_OTSU)\n",
    "        x.append(cv2.resize(im_bw, IMG_SIZE, interpolation=cv2.INTER_CUBIC))\n",
    "    x=np.asarray(x)\n",
    "    x=np.reshape(x,(len(img),128,128,1))"
   ]
  },
  {
   "cell_type": "code",
   "execution_count": 40,
   "metadata": {},
   "outputs": [],
   "source": [
    "def predict(image):\n",
    "    pred_Y=multi_disease_model.predict(image,verbose = True)\n",
    "    for i in range(len(pred_Y)):\n",
    "        pred_Y[i][7]=0\n",
    "    for i in range(len(pred_Y)):\n",
    "        maxvalue=max(pred_Y[i].tolist())\n",
    "        if(maxvalue>3.0):\n",
    "            print(labels[pred_Y[i].tolist().index(maxvalue)])\n",
    "        else:\n",
    "            print(\"Unknown disease\")"
   ]
  },
  {
   "cell_type": "code",
   "execution_count": 7,
   "metadata": {},
   "outputs": [],
   "source": [
    "def process_csv():\n",
    "    data=pd.read_csv(\"sample_labels.csv\")\n",
    "    \n",
    "#    print(data.columns)\n",
    "#    print(data[\"Image Index\"])\n",
    "#    print(data[\"Finding Labels\"])\n",
    "    labels=set([])\n",
    "    for index,row in data.iterrows():\n",
    "        item=str(row[1]).split('|')\n",
    "        for _ in item:\n",
    "            labels.add(_)\n",
    "    print(labels)\n",
    "    print(len(labels))\n",
    "    return list(labels)"
   ]
  },
  {
   "cell_type": "code",
   "execution_count": 8,
   "metadata": {},
   "outputs": [
    {
     "name": "stdout",
     "output_type": "stream",
     "text": [
      "{'Consolidation', 'Cardiomegaly', 'Infiltration', 'Hernia', 'Effusion', 'Pneumothorax', 'Edema', 'No Finding', 'Nodule', 'Fibrosis', 'Pleural_Thickening', 'Atelectasis', 'Pneumonia', 'Mass', 'Emphysema'}\n",
      "15\n"
     ]
    }
   ],
   "source": [
    "labels=process_csv()\n",
    "labels.remove('No Finding')"
   ]
  },
  {
   "cell_type": "code",
   "execution_count": 9,
   "metadata": {},
   "outputs": [],
   "source": [
    "data=pd.read_csv(\"sample_labels.csv\")\n",
    "# #    print(data.columns)\n",
    "# #    print(data[\"Image Index\"])\n",
    "# #    print(data[\"Finding Labels\"])\n",
    "# validation={}\n",
    "# for index, row in data.iterrows():\n",
    "#     item=str(row[1]).split('|')\n",
    "#     for _ in item:\n",
    "#         if _ in labels:\n",
    "#             try:\n",
    "#                 validation.update({_:validation.get(_)+1})\n",
    "#             except:\n",
    "#                 validation[_]=1"
   ]
  },
  {
   "cell_type": "code",
   "execution_count": 10,
   "metadata": {},
   "outputs": [
    {
     "name": "stdout",
     "output_type": "stream",
     "text": [
      "['Consolidation', 'Cardiomegaly', 'Infiltration', 'Hernia', 'Effusion', 'Pneumothorax', 'Edema', 'Nodule', 'Fibrosis', 'Pleural_Thickening', 'Atelectasis', 'Pneumonia', 'Mass', 'Emphysema']\n",
      "[[], [], [], [], [], [], [], [], [], [], [], [], [], []]\n"
     ]
    }
   ],
   "source": [
    "# print(validation)\n",
    "print(labels)\n",
    "images=[]\n",
    "for _ in range(14):\n",
    "    images.append([])\n",
    "print(images)"
   ]
  },
  {
   "cell_type": "code",
   "execution_count": 11,
   "metadata": {},
   "outputs": [],
   "source": [
    "def create_list():\n",
    "    for index,row in data.iterrows():\n",
    "            item=str(row[1]).split('|')\n",
    "            for _ in item:\n",
    "                if _ != \"No Finding\":\n",
    "                    (images[labels.index(_)]).append(row[0]);\n",
    "    return images"
   ]
  },
  {
   "cell_type": "code",
   "execution_count": 12,
   "metadata": {},
   "outputs": [
    {
     "name": "stdout",
     "output_type": "stream",
     "text": [
      "Consolidation 226\n",
      "Cardiomegaly 141\n",
      "Infiltration 967\n",
      "Hernia 13\n",
      "Effusion 644\n",
      "Pneumothorax 271\n",
      "Edema 118\n",
      "Nodule 313\n",
      "Fibrosis 84\n",
      "Pleural_Thickening 176\n",
      "Atelectasis 508\n",
      "Pneumonia 62\n",
      "Mass 284\n",
      "Emphysema 127\n"
     ]
    }
   ],
   "source": [
    "images=create_list()\n",
    "# print(validation)\n",
    "for _ in range(14):\n",
    "    print(labels[_],len(images[_]))"
   ]
  },
  {
   "cell_type": "code",
   "execution_count": 67,
   "metadata": {},
   "outputs": [
    {
     "name": "stderr",
     "output_type": "stream",
     "text": [
      "/Library/Frameworks/Python.framework/Versions/3.6/lib/python3.6/site-packages/keras_applications/imagenet_utils.py:273: UserWarning: This model usually expects 1 or 3 input channels. However, it was passed an input_shape with 14 input channels.\n",
      "  str(input_shape[-1]) + ' input channels.')\n"
     ]
    },
    {
     "ename": "ValueError",
     "evalue": "Error when checking model input: the list of Numpy arrays that you are passing to your model is not the size the model expected. Expected to see 1 array(s), but instead got the following list of 14 arrays: [array([[[[255],\n         [255],\n         [255],\n         ...,\n         [  0],\n         [  0],\n         [  0]],\n\n        [[255],\n         [255],\n         [255],\n         ...,\n         [  0],\n         ...",
     "output_type": "error",
     "traceback": [
      "\u001b[0;31m---------------------------------------------------------------------------\u001b[0m",
      "\u001b[0;31mValueError\u001b[0m                                Traceback (most recent call last)",
      "\u001b[0;32m<ipython-input-67-8a98f090d43c>\u001b[0m in \u001b[0;36m<module>\u001b[0;34m()\u001b[0m\n\u001b[1;32m      5\u001b[0m     \u001b[0mtrain_X\u001b[0m\u001b[0;34m.\u001b[0m\u001b[0mappend\u001b[0m\u001b[0;34m(\u001b[0m\u001b[0mimage_reshape_train\u001b[0m\u001b[0;34m(\u001b[0m\u001b[0mimages\u001b[0m\u001b[0;34m[\u001b[0m\u001b[0mdisease\u001b[0m\u001b[0;34m]\u001b[0m\u001b[0;34m)\u001b[0m\u001b[0;34m)\u001b[0m\u001b[0;34m\u001b[0m\u001b[0m\n\u001b[1;32m      6\u001b[0m     \u001b[0mtrain_Y\u001b[0m\u001b[0;34m.\u001b[0m\u001b[0mappend\u001b[0m\u001b[0;34m(\u001b[0m\u001b[0;34m[\u001b[0m\u001b[0mdisease\u001b[0m\u001b[0;34m]\u001b[0m\u001b[0;34m*\u001b[0m\u001b[0mlen\u001b[0m\u001b[0;34m(\u001b[0m\u001b[0mimages\u001b[0m\u001b[0;34m[\u001b[0m\u001b[0mdisease\u001b[0m\u001b[0;34m]\u001b[0m\u001b[0;34m)\u001b[0m\u001b[0;34m)\u001b[0m\u001b[0;34m\u001b[0m\u001b[0m\n\u001b[0;32m----> 7\u001b[0;31m \u001b[0mmodel\u001b[0m\u001b[0;34m.\u001b[0m\u001b[0mfit\u001b[0m\u001b[0;34m(\u001b[0m\u001b[0mtrain_X\u001b[0m\u001b[0;34m,\u001b[0m\u001b[0mtrain_Y\u001b[0m\u001b[0;34m,\u001b[0m\u001b[0mepochs\u001b[0m\u001b[0;34m=\u001b[0m\u001b[0;36m1\u001b[0m\u001b[0;34m,\u001b[0m \u001b[0mverbose\u001b[0m\u001b[0;34m=\u001b[0m\u001b[0;36m1\u001b[0m\u001b[0;34m,\u001b[0m\u001b[0mbatch_size\u001b[0m\u001b[0;34m=\u001b[0m\u001b[0;36m24\u001b[0m\u001b[0;34m)\u001b[0m\u001b[0;34m\u001b[0m\u001b[0m\n\u001b[0m",
      "\u001b[0;32m/Library/Frameworks/Python.framework/Versions/3.6/lib/python3.6/site-packages/keras/engine/training.py\u001b[0m in \u001b[0;36mfit\u001b[0;34m(self, x, y, batch_size, epochs, verbose, callbacks, validation_split, validation_data, shuffle, class_weight, sample_weight, initial_epoch, steps_per_epoch, validation_steps, **kwargs)\u001b[0m\n\u001b[1;32m    948\u001b[0m             \u001b[0msample_weight\u001b[0m\u001b[0;34m=\u001b[0m\u001b[0msample_weight\u001b[0m\u001b[0;34m,\u001b[0m\u001b[0;34m\u001b[0m\u001b[0m\n\u001b[1;32m    949\u001b[0m             \u001b[0mclass_weight\u001b[0m\u001b[0;34m=\u001b[0m\u001b[0mclass_weight\u001b[0m\u001b[0;34m,\u001b[0m\u001b[0;34m\u001b[0m\u001b[0m\n\u001b[0;32m--> 950\u001b[0;31m             batch_size=batch_size)\n\u001b[0m\u001b[1;32m    951\u001b[0m         \u001b[0;31m# Prepare validation data.\u001b[0m\u001b[0;34m\u001b[0m\u001b[0;34m\u001b[0m\u001b[0m\n\u001b[1;32m    952\u001b[0m         \u001b[0mdo_validation\u001b[0m \u001b[0;34m=\u001b[0m \u001b[0;32mFalse\u001b[0m\u001b[0;34m\u001b[0m\u001b[0m\n",
      "\u001b[0;32m/Library/Frameworks/Python.framework/Versions/3.6/lib/python3.6/site-packages/keras/engine/training.py\u001b[0m in \u001b[0;36m_standardize_user_data\u001b[0;34m(self, x, y, sample_weight, class_weight, check_array_lengths, batch_size)\u001b[0m\n\u001b[1;32m    747\u001b[0m             \u001b[0mfeed_input_shapes\u001b[0m\u001b[0;34m,\u001b[0m\u001b[0;34m\u001b[0m\u001b[0m\n\u001b[1;32m    748\u001b[0m             \u001b[0mcheck_batch_axis\u001b[0m\u001b[0;34m=\u001b[0m\u001b[0;32mFalse\u001b[0m\u001b[0;34m,\u001b[0m  \u001b[0;31m# Don't enforce the batch size.\u001b[0m\u001b[0;34m\u001b[0m\u001b[0m\n\u001b[0;32m--> 749\u001b[0;31m             exception_prefix='input')\n\u001b[0m\u001b[1;32m    750\u001b[0m \u001b[0;34m\u001b[0m\u001b[0m\n\u001b[1;32m    751\u001b[0m         \u001b[0;32mif\u001b[0m \u001b[0my\u001b[0m \u001b[0;32mis\u001b[0m \u001b[0;32mnot\u001b[0m \u001b[0;32mNone\u001b[0m\u001b[0;34m:\u001b[0m\u001b[0;34m\u001b[0m\u001b[0m\n",
      "\u001b[0;32m/Library/Frameworks/Python.framework/Versions/3.6/lib/python3.6/site-packages/keras/engine/training_utils.py\u001b[0m in \u001b[0;36mstandardize_input_data\u001b[0;34m(data, names, shapes, check_batch_axis, exception_prefix)\u001b[0m\n\u001b[1;32m     99\u001b[0m                 \u001b[0;34m'Expected to see '\u001b[0m \u001b[0;34m+\u001b[0m \u001b[0mstr\u001b[0m\u001b[0;34m(\u001b[0m\u001b[0mlen\u001b[0m\u001b[0;34m(\u001b[0m\u001b[0mnames\u001b[0m\u001b[0;34m)\u001b[0m\u001b[0;34m)\u001b[0m \u001b[0;34m+\u001b[0m \u001b[0;34m' array(s), '\u001b[0m\u001b[0;34m\u001b[0m\u001b[0m\n\u001b[1;32m    100\u001b[0m                 \u001b[0;34m'but instead got the following list of '\u001b[0m \u001b[0;34m+\u001b[0m\u001b[0;34m\u001b[0m\u001b[0m\n\u001b[0;32m--> 101\u001b[0;31m                 str(len(data)) + ' arrays: ' + str(data)[:200] + '...')\n\u001b[0m\u001b[1;32m    102\u001b[0m         \u001b[0;32melif\u001b[0m \u001b[0mlen\u001b[0m\u001b[0;34m(\u001b[0m\u001b[0mnames\u001b[0m\u001b[0;34m)\u001b[0m \u001b[0;34m>\u001b[0m \u001b[0;36m1\u001b[0m\u001b[0;34m:\u001b[0m\u001b[0;34m\u001b[0m\u001b[0m\n\u001b[1;32m    103\u001b[0m             raise ValueError(\n",
      "\u001b[0;31mValueError\u001b[0m: Error when checking model input: the list of Numpy arrays that you are passing to your model is not the size the model expected. Expected to see 1 array(s), but instead got the following list of 14 arrays: [array([[[[255],\n         [255],\n         [255],\n         ...,\n         [  0],\n         [  0],\n         [  0]],\n\n        [[255],\n         [255],\n         [255],\n         ...,\n         [  0],\n         ..."
     ]
    }
   ],
   "source": [
    "model=create_model()\n",
    "train_X=[]\n",
    "train_Y=[]\n",
    "for disease in range(len(images)):\n",
    "    train_X.append(image_reshape_train(images[disease]))\n",
    "    train_Y.append([disease]*len(images[disease]))\n",
    "model.fit(train_X,train_Y,epochs=1, verbose=1,batch_size=24)"
   ]
  },
  {
   "cell_type": "code",
   "execution_count": 49,
   "metadata": {},
   "outputs": [
    {
     "name": "stdout",
     "output_type": "stream",
     "text": [
      "[22, 22, 22, 22, 22, 22, 22, 22, 22, 22]\n"
     ]
    }
   ],
   "source": [
    "print([22]*10)"
   ]
  },
  {
   "cell_type": "code",
   "execution_count": null,
   "metadata": {},
   "outputs": [],
   "source": []
  }
 ],
 "metadata": {
  "kernelspec": {
   "display_name": "Python 3",
   "language": "python",
   "name": "python3"
  },
  "language_info": {
   "codemirror_mode": {
    "name": "ipython",
    "version": 3
   },
   "file_extension": ".py",
   "mimetype": "text/x-python",
   "name": "python",
   "nbconvert_exporter": "python",
   "pygments_lexer": "ipython3",
   "version": "3.6.4"
  }
 },
 "nbformat": 4,
 "nbformat_minor": 2
}
